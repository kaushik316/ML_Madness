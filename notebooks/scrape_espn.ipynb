{
 "cells": [
  {
   "cell_type": "code",
   "execution_count": 1,
   "metadata": {
    "collapsed": true
   },
   "outputs": [],
   "source": [
    "import requests\n",
    "from bs4 import BeautifulSoup\n",
    "import pandas as pd\n",
    "import re\n",
    "import pickle\n",
    "from time import sleep"
   ]
  },
  {
   "cell_type": "code",
   "execution_count": 2,
   "metadata": {
    "collapsed": true
   },
   "outputs": [],
   "source": [
    "with open(\"../pickled_data/team_dict.pickle\", \"rb\") as dict_file:\n",
    "    team_dict = pickle.load(dict_file)\n",
    "dict_file.close()"
   ]
  },
  {
   "cell_type": "code",
   "execution_count": 3,
   "metadata": {
    "collapsed": false
   },
   "outputs": [
    {
     "name": "stdout",
     "output_type": "stream",
     "text": [
      "[2008, 2009, 2010, 2011, 2012, 2013, 2014, 2015, 2016, 2017]\n"
     ]
    }
   ],
   "source": [
    "url = \"http://www.espn.com/mens-college-basketball/bpi/_/season/{}/page/{}/view/{}\"\n",
    "num_pages = 16\n",
    "seasons = [i for i in range(2008, 2018)]\n",
    "print seasons"
   ]
  },
  {
   "cell_type": "code",
   "execution_count": 4,
   "metadata": {
    "collapsed": false
   },
   "outputs": [],
   "source": [
    "# function to scrape data from espn into dataframe\n",
    "\n",
    "def get_stats(statstype):\n",
    "    for season in seasons:\n",
    "        for num in range(1, num_pages):\n",
    "            formatted_url = url.format(str(season), str(num), statstype)\n",
    "            if season == 2008 and num == 1:\n",
    "                # might need to adjust sleep if connection interrupted\n",
    "                sleep(1)\n",
    "                df_list = pd.read_html(formatted_url)\n",
    "                stat_df = df_list[1]\n",
    "                stat_df[\"Season\"] = season\n",
    "            else:\n",
    "                try:\n",
    "                    df_list = pd.read_html(formatted_url)\n",
    "                    df_to_append = df_list[1]\n",
    "                    df_to_append[\"Season\"] = season\n",
    "                    stat_df = stat_df.append(df_to_append, ignore_index=True)\n",
    "                except IndexError:\n",
    "                    # Depending on the season, pages can have less than 15 pages\n",
    "                    print formatted_url\n",
    "    \n",
    "    return stat_df"
   ]
  },
  {
   "cell_type": "code",
   "execution_count": 5,
   "metadata": {
    "collapsed": false
   },
   "outputs": [
    {
     "name": "stdout",
     "output_type": "stream",
     "text": [
      "http://www.espn.com/mens-college-basketball/bpi/_/season/2008/page/15/view/resume\n",
      "http://www.espn.com/mens-college-basketball/bpi/_/season/2009/page/15/view/resume\n",
      "http://www.espn.com/mens-college-basketball/bpi/_/season/2010/page/15/view/resume\n",
      "http://www.espn.com/mens-college-basketball/bpi/_/season/2011/page/15/view/resume\n",
      "http://www.espn.com/mens-college-basketball/bpi/_/season/2012/page/15/view/resume\n",
      "http://www.espn.com/mens-college-basketball/bpi/_/season/2013/page/15/view/resume\n",
      "3475\n"
     ]
    },
    {
     "data": {
      "text/html": [
       "<div>\n",
       "<table border=\"1\" class=\"dataframe\">\n",
       "  <thead>\n",
       "    <tr style=\"text-align: right;\">\n",
       "      <th></th>\n",
       "      <th>RK</th>\n",
       "      <th>TEAM</th>\n",
       "      <th>CONF</th>\n",
       "      <th>W-L</th>\n",
       "      <th>SOR RK</th>\n",
       "      <th>Seed</th>\n",
       "      <th>SOR S-Curve</th>\n",
       "      <th>Qual W-L</th>\n",
       "      <th>SOS RK</th>\n",
       "      <th>Non-Conf SOS RK</th>\n",
       "      <th>Season</th>\n",
       "    </tr>\n",
       "  </thead>\n",
       "  <tbody>\n",
       "    <tr>\n",
       "      <th>3470</th>\n",
       "      <td>T336</td>\n",
       "      <td>Florida A&amp;MFAMU</td>\n",
       "      <td>MEAC</td>\n",
       "      <td>7-23</td>\n",
       "      <td>336</td>\n",
       "      <td>--</td>\n",
       "      <td>345</td>\n",
       "      <td>0-1</td>\n",
       "      <td>350</td>\n",
       "      <td>327</td>\n",
       "      <td>2017</td>\n",
       "    </tr>\n",
       "    <tr>\n",
       "      <th>3471</th>\n",
       "      <td>T336</td>\n",
       "      <td>LongwoodLONG</td>\n",
       "      <td>Big South</td>\n",
       "      <td>6-24</td>\n",
       "      <td>336</td>\n",
       "      <td>--</td>\n",
       "      <td>336</td>\n",
       "      <td>0-2</td>\n",
       "      <td>259</td>\n",
       "      <td>199</td>\n",
       "      <td>2017</td>\n",
       "    </tr>\n",
       "    <tr>\n",
       "      <th>3472</th>\n",
       "      <td>T336</td>\n",
       "      <td>Arkansas-Pine BluffUAPB</td>\n",
       "      <td>SWAC</td>\n",
       "      <td>7-25</td>\n",
       "      <td>336</td>\n",
       "      <td>--</td>\n",
       "      <td>342</td>\n",
       "      <td>0-1</td>\n",
       "      <td>320</td>\n",
       "      <td>167</td>\n",
       "      <td>2017</td>\n",
       "    </tr>\n",
       "    <tr>\n",
       "      <th>3473</th>\n",
       "      <td>T336</td>\n",
       "      <td>Coppin StateCOPP</td>\n",
       "      <td>MEAC</td>\n",
       "      <td>8-24</td>\n",
       "      <td>336</td>\n",
       "      <td>--</td>\n",
       "      <td>338</td>\n",
       "      <td>0-1</td>\n",
       "      <td>277</td>\n",
       "      <td>64</td>\n",
       "      <td>2017</td>\n",
       "    </tr>\n",
       "    <tr>\n",
       "      <th>3474</th>\n",
       "      <td>T337</td>\n",
       "      <td>Coppin StateCOPP</td>\n",
       "      <td>MEAC</td>\n",
       "      <td>8-24</td>\n",
       "      <td>337</td>\n",
       "      <td>--</td>\n",
       "      <td>338</td>\n",
       "      <td>0-1</td>\n",
       "      <td>277</td>\n",
       "      <td>63</td>\n",
       "      <td>2017</td>\n",
       "    </tr>\n",
       "  </tbody>\n",
       "</table>\n",
       "</div>"
      ],
      "text/plain": [
       "        RK                     TEAM       CONF   W-L  SOR RK Seed SOR S-Curve  \\\n",
       "3470  T336          Florida A&MFAMU       MEAC  7-23     336   --         345   \n",
       "3471  T336             LongwoodLONG  Big South  6-24     336   --         336   \n",
       "3472  T336  Arkansas-Pine BluffUAPB       SWAC  7-25     336   --         342   \n",
       "3473  T336         Coppin StateCOPP       MEAC  8-24     336   --         338   \n",
       "3474  T337         Coppin StateCOPP       MEAC  8-24     337   --         338   \n",
       "\n",
       "     Qual W-L  SOS RK  Non-Conf SOS RK  Season  \n",
       "3470      0-1     350              327    2017  \n",
       "3471      0-2     259              199    2017  \n",
       "3472      0-1     320              167    2017  \n",
       "3473      0-1     277               64    2017  \n",
       "3474      0-1     277               63    2017  "
      ]
     },
     "execution_count": 5,
     "metadata": {},
     "output_type": "execute_result"
    }
   ],
   "source": [
    "# get dataframe with espn's team resume data\n",
    "resume_df = get_stats(\"resume\")\n",
    "print len(resume_df)\n",
    "resume_df.tail()"
   ]
  },
  {
   "cell_type": "code",
   "execution_count": 22,
   "metadata": {
    "collapsed": false
   },
   "outputs": [
    {
     "data": {
      "text/html": [
       "<div>\n",
       "<table border=\"1\" class=\"dataframe\">\n",
       "  <thead>\n",
       "    <tr style=\"text-align: right;\">\n",
       "      <th></th>\n",
       "      <th>RK</th>\n",
       "      <th>TEAM</th>\n",
       "      <th>SOR RK</th>\n",
       "      <th>Qual W-L</th>\n",
       "      <th>SOS RK</th>\n",
       "      <th>Non-Conf SOS RK</th>\n",
       "      <th>Season</th>\n",
       "    </tr>\n",
       "  </thead>\n",
       "  <tbody>\n",
       "    <tr>\n",
       "      <th>0</th>\n",
       "      <td>1</td>\n",
       "      <td>North Carolina</td>\n",
       "      <td>1</td>\n",
       "      <td>13-3</td>\n",
       "      <td>9</td>\n",
       "      <td>12</td>\n",
       "      <td>2008</td>\n",
       "    </tr>\n",
       "    <tr>\n",
       "      <th>1</th>\n",
       "      <td>2</td>\n",
       "      <td>Kansas</td>\n",
       "      <td>2</td>\n",
       "      <td>15-2</td>\n",
       "      <td>46</td>\n",
       "      <td>26</td>\n",
       "      <td>2008</td>\n",
       "    </tr>\n",
       "    <tr>\n",
       "      <th>2</th>\n",
       "      <td>3</td>\n",
       "      <td>Memphis</td>\n",
       "      <td>3</td>\n",
       "      <td>10-2</td>\n",
       "      <td>76</td>\n",
       "      <td>7</td>\n",
       "      <td>2008</td>\n",
       "    </tr>\n",
       "    <tr>\n",
       "      <th>3</th>\n",
       "      <td>4</td>\n",
       "      <td>UCLAUCLA</td>\n",
       "      <td>4</td>\n",
       "      <td>16-3</td>\n",
       "      <td>28</td>\n",
       "      <td>39</td>\n",
       "      <td>2008</td>\n",
       "    </tr>\n",
       "    <tr>\n",
       "      <th>4</th>\n",
       "      <td>5</td>\n",
       "      <td>Tennessee</td>\n",
       "      <td>5</td>\n",
       "      <td>12-4</td>\n",
       "      <td>19</td>\n",
       "      <td>5</td>\n",
       "      <td>2008</td>\n",
       "    </tr>\n",
       "  </tbody>\n",
       "</table>\n",
       "</div>"
      ],
      "text/plain": [
       "  RK            TEAM  SOR RK Qual W-L  SOS RK  Non-Conf SOS RK  Season\n",
       "0  1  North Carolina       1     13-3       9               12    2008\n",
       "1  2          Kansas       2     15-2      46               26    2008\n",
       "2  3         Memphis       3     10-2      76                7    2008\n",
       "3  4        UCLAUCLA       4     16-3      28               39    2008\n",
       "4  5       Tennessee       5     12-4      19                5    2008"
      ]
     },
     "execution_count": 22,
     "metadata": {},
     "output_type": "execute_result"
    }
   ],
   "source": [
    "# remove the short form team name from the end of string\n",
    "resume_df[\"TEAM\"] = resume_df[\"TEAM\"].apply(lambda x: re.sub(r\"(?<=[a-z])[A-Z]+$\",\"\", x))\n",
    "resume_df.drop([\"CONF\", \"Seed\", \"W-L\", \"SOR S-Curve\"], axis=1, inplace=True)\n",
    "resume_df.head()"
   ]
  },
  {
   "cell_type": "code",
   "execution_count": 23,
   "metadata": {
    "collapsed": false
   },
   "outputs": [
    {
     "name": "stdout",
     "output_type": "stream",
     "text": [
      "http://www.espn.com/mens-college-basketball/bpi/_/season/2008/page/15/view/bpi\n",
      "http://www.espn.com/mens-college-basketball/bpi/_/season/2009/page/15/view/bpi\n",
      "http://www.espn.com/mens-college-basketball/bpi/_/season/2010/page/15/view/bpi\n",
      "http://www.espn.com/mens-college-basketball/bpi/_/season/2011/page/15/view/bpi\n",
      "http://www.espn.com/mens-college-basketball/bpi/_/season/2012/page/15/view/bpi\n",
      "http://www.espn.com/mens-college-basketball/bpi/_/season/2013/page/15/view/bpi\n"
     ]
    }
   ],
   "source": [
    "# get dataframe with espn's bpi stats\n",
    "bpi_df = get_stats(\"bpi\")"
   ]
  },
  {
   "cell_type": "code",
   "execution_count": 24,
   "metadata": {
    "collapsed": false
   },
   "outputs": [
    {
     "name": "stdout",
     "output_type": "stream",
     "text": [
      "3475\n"
     ]
    },
    {
     "data": {
      "text/html": [
       "<div>\n",
       "<table border=\"1\" class=\"dataframe\">\n",
       "  <thead>\n",
       "    <tr style=\"text-align: right;\">\n",
       "      <th></th>\n",
       "      <th>RK</th>\n",
       "      <th>TEAM</th>\n",
       "      <th>BPI Off</th>\n",
       "      <th>BPI Def</th>\n",
       "      <th>BPI</th>\n",
       "      <th>Season</th>\n",
       "    </tr>\n",
       "  </thead>\n",
       "  <tbody>\n",
       "    <tr>\n",
       "      <th>3470</th>\n",
       "      <td>347</td>\n",
       "      <td>Arkansas-Pine Bluff</td>\n",
       "      <td>-12.5</td>\n",
       "      <td>-2.8</td>\n",
       "      <td>-15.3</td>\n",
       "      <td>2017</td>\n",
       "    </tr>\n",
       "    <tr>\n",
       "      <th>3471</th>\n",
       "      <td>348</td>\n",
       "      <td>Coppin State</td>\n",
       "      <td>-9.0</td>\n",
       "      <td>-7.7</td>\n",
       "      <td>-16.7</td>\n",
       "      <td>2017</td>\n",
       "    </tr>\n",
       "    <tr>\n",
       "      <th>3472</th>\n",
       "      <td>349</td>\n",
       "      <td>Presbyterian College</td>\n",
       "      <td>-9.8</td>\n",
       "      <td>-7.3</td>\n",
       "      <td>-17.1</td>\n",
       "      <td>2017</td>\n",
       "    </tr>\n",
       "    <tr>\n",
       "      <th>3473</th>\n",
       "      <td>350</td>\n",
       "      <td>North Carolina A&amp;TNCAT</td>\n",
       "      <td>-7.4</td>\n",
       "      <td>-10.1</td>\n",
       "      <td>-17.5</td>\n",
       "      <td>2017</td>\n",
       "    </tr>\n",
       "    <tr>\n",
       "      <th>3474</th>\n",
       "      <td>351</td>\n",
       "      <td>Alabama A&amp;MAAMU</td>\n",
       "      <td>-8.5</td>\n",
       "      <td>-10.5</td>\n",
       "      <td>-19.0</td>\n",
       "      <td>2017</td>\n",
       "    </tr>\n",
       "  </tbody>\n",
       "</table>\n",
       "</div>"
      ],
      "text/plain": [
       "       RK                    TEAM  BPI Off  BPI Def   BPI  Season\n",
       "3470  347     Arkansas-Pine Bluff    -12.5     -2.8 -15.3    2017\n",
       "3471  348            Coppin State     -9.0     -7.7 -16.7    2017\n",
       "3472  349    Presbyterian College     -9.8     -7.3 -17.1    2017\n",
       "3473  350  North Carolina A&TNCAT     -7.4    -10.1 -17.5    2017\n",
       "3474  351         Alabama A&MAAMU     -8.5    -10.5 -19.0    2017"
      ]
     },
     "execution_count": 24,
     "metadata": {},
     "output_type": "execute_result"
    }
   ],
   "source": [
    "print len(bpi_df)\n",
    "bpi_df[\"TEAM\"] = bpi_df[\"TEAM\"].apply(lambda x: re.sub(r\"(?<=[a-z])[A-Z]+$\",\"\", x))\n",
    "bpi_df.drop([\"CONF\", \"W-L\", \"7-Day RK CHG\"], axis=1, inplace=True)\n",
    "bpi_df.tail()"
   ]
  },
  {
   "cell_type": "code",
   "execution_count": 25,
   "metadata": {
    "collapsed": false
   },
   "outputs": [],
   "source": [
    "resume_df.sort_values(by=[\"Season\", \"TEAM\"], inplace=True)\n",
    "bpi_df.sort_values(by=[\"Season\", \"TEAM\"], inplace=True)"
   ]
  },
  {
   "cell_type": "code",
   "execution_count": 26,
   "metadata": {
    "collapsed": false
   },
   "outputs": [
    {
     "name": "stdout",
     "output_type": "stream",
     "text": [
      "3474\n"
     ]
    },
    {
     "data": {
      "text/html": [
       "<div>\n",
       "<table border=\"1\" class=\"dataframe\">\n",
       "  <thead>\n",
       "    <tr style=\"text-align: right;\">\n",
       "      <th></th>\n",
       "      <th>RK_x</th>\n",
       "      <th>TEAM</th>\n",
       "      <th>SOR RK</th>\n",
       "      <th>Qual W-L</th>\n",
       "      <th>SOS RK</th>\n",
       "      <th>Non-Conf SOS RK</th>\n",
       "      <th>Season</th>\n",
       "      <th>RK_y</th>\n",
       "      <th>BPI Off</th>\n",
       "      <th>BPI Def</th>\n",
       "      <th>BPI</th>\n",
       "    </tr>\n",
       "  </thead>\n",
       "  <tbody>\n",
       "    <tr>\n",
       "      <th>0</th>\n",
       "      <td>162</td>\n",
       "      <td>Air Force</td>\n",
       "      <td>162</td>\n",
       "      <td>1-4</td>\n",
       "      <td>155</td>\n",
       "      <td>307</td>\n",
       "      <td>2008</td>\n",
       "      <td>180</td>\n",
       "      <td>-9.5</td>\n",
       "      <td>8.4</td>\n",
       "      <td>-1.1</td>\n",
       "    </tr>\n",
       "    <tr>\n",
       "      <th>1</th>\n",
       "      <td>77</td>\n",
       "      <td>Akron</td>\n",
       "      <td>77</td>\n",
       "      <td>0-1</td>\n",
       "      <td>138</td>\n",
       "      <td>133</td>\n",
       "      <td>2008</td>\n",
       "      <td>73</td>\n",
       "      <td>2.9</td>\n",
       "      <td>3.7</td>\n",
       "      <td>6.6</td>\n",
       "    </tr>\n",
       "    <tr>\n",
       "      <th>2</th>\n",
       "      <td>97</td>\n",
       "      <td>Alabama</td>\n",
       "      <td>97</td>\n",
       "      <td>4-10</td>\n",
       "      <td>63</td>\n",
       "      <td>135</td>\n",
       "      <td>2008</td>\n",
       "      <td>80</td>\n",
       "      <td>6.5</td>\n",
       "      <td>-0.5</td>\n",
       "      <td>6.0</td>\n",
       "    </tr>\n",
       "    <tr>\n",
       "      <th>3</th>\n",
       "      <td>T312</td>\n",
       "      <td>Alabama A&amp;MAAMU</td>\n",
       "      <td>312</td>\n",
       "      <td>0-1</td>\n",
       "      <td>336</td>\n",
       "      <td>205</td>\n",
       "      <td>2008</td>\n",
       "      <td>313</td>\n",
       "      <td>-7.5</td>\n",
       "      <td>-2.6</td>\n",
       "      <td>-10.1</td>\n",
       "    </tr>\n",
       "    <tr>\n",
       "      <th>4</th>\n",
       "      <td>205</td>\n",
       "      <td>Alabama State</td>\n",
       "      <td>205</td>\n",
       "      <td>0-1</td>\n",
       "      <td>334</td>\n",
       "      <td>210</td>\n",
       "      <td>2008</td>\n",
       "      <td>238</td>\n",
       "      <td>-3.1</td>\n",
       "      <td>-1.2</td>\n",
       "      <td>-4.3</td>\n",
       "    </tr>\n",
       "  </tbody>\n",
       "</table>\n",
       "</div>"
      ],
      "text/plain": [
       "   RK_x             TEAM  SOR RK Qual W-L  SOS RK  Non-Conf SOS RK  Season  \\\n",
       "0   162        Air Force     162      1-4     155              307    2008   \n",
       "1    77            Akron      77      0-1     138              133    2008   \n",
       "2    97          Alabama      97     4-10      63              135    2008   \n",
       "3  T312  Alabama A&MAAMU     312      0-1     336              205    2008   \n",
       "4   205    Alabama State     205      0-1     334              210    2008   \n",
       "\n",
       "   RK_y  BPI Off  BPI Def   BPI  \n",
       "0   180     -9.5      8.4  -1.1  \n",
       "1    73      2.9      3.7   6.6  \n",
       "2    80      6.5     -0.5   6.0  \n",
       "3   313     -7.5     -2.6 -10.1  \n",
       "4   238     -3.1     -1.2  -4.3  "
      ]
     },
     "execution_count": 26,
     "metadata": {},
     "output_type": "execute_result"
    }
   ],
   "source": [
    "espn_df = resume_df.merge(bpi_df, on=[\"TEAM\", \"Season\"])\n",
    "print len(espn_df)\n",
    "espn_df.head()"
   ]
  },
  {
   "cell_type": "code",
   "execution_count": 27,
   "metadata": {
    "collapsed": true
   },
   "outputs": [],
   "source": [
    "team_list = list(team_dict.values())\n",
    "\n",
    "for index, row in espn_df.iterrows():\n",
    "    for team in team_list:\n",
    "        if team in row[\"TEAM\"]:\n",
    "            espn_df.set_value(index,'Teamname',team)\n",
    "        else:\n",
    "            row[\"Teamname\"] = \"fail\"\n",
    "            "
   ]
  },
  {
   "cell_type": "code",
   "execution_count": 28,
   "metadata": {
    "collapsed": false
   },
   "outputs": [
    {
     "data": {
      "text/html": [
       "<div>\n",
       "<table border=\"1\" class=\"dataframe\">\n",
       "  <thead>\n",
       "    <tr style=\"text-align: right;\">\n",
       "      <th></th>\n",
       "      <th>Season</th>\n",
       "      <th>Teamname</th>\n",
       "      <th>SOR RK</th>\n",
       "      <th>SOS RK</th>\n",
       "      <th>Non-Conf SOS RK</th>\n",
       "      <th>Qual W-L</th>\n",
       "      <th>BPI</th>\n",
       "    </tr>\n",
       "  </thead>\n",
       "  <tbody>\n",
       "    <tr>\n",
       "      <th>0</th>\n",
       "      <td>2008</td>\n",
       "      <td>Air Force</td>\n",
       "      <td>162</td>\n",
       "      <td>155</td>\n",
       "      <td>307</td>\n",
       "      <td>1-4</td>\n",
       "      <td>-1.1</td>\n",
       "    </tr>\n",
       "    <tr>\n",
       "      <th>1</th>\n",
       "      <td>2008</td>\n",
       "      <td>Akron</td>\n",
       "      <td>77</td>\n",
       "      <td>138</td>\n",
       "      <td>133</td>\n",
       "      <td>0-1</td>\n",
       "      <td>6.6</td>\n",
       "    </tr>\n",
       "    <tr>\n",
       "      <th>2</th>\n",
       "      <td>2008</td>\n",
       "      <td>Alabama</td>\n",
       "      <td>97</td>\n",
       "      <td>63</td>\n",
       "      <td>135</td>\n",
       "      <td>4-10</td>\n",
       "      <td>6.0</td>\n",
       "    </tr>\n",
       "    <tr>\n",
       "      <th>3</th>\n",
       "      <td>2008</td>\n",
       "      <td>Alabama A&amp;M</td>\n",
       "      <td>312</td>\n",
       "      <td>336</td>\n",
       "      <td>205</td>\n",
       "      <td>0-1</td>\n",
       "      <td>-10.1</td>\n",
       "    </tr>\n",
       "    <tr>\n",
       "      <th>4</th>\n",
       "      <td>2008</td>\n",
       "      <td>Alabama St</td>\n",
       "      <td>205</td>\n",
       "      <td>334</td>\n",
       "      <td>210</td>\n",
       "      <td>0-1</td>\n",
       "      <td>-4.3</td>\n",
       "    </tr>\n",
       "  </tbody>\n",
       "</table>\n",
       "</div>"
      ],
      "text/plain": [
       "   Season     Teamname  SOR RK  SOS RK  Non-Conf SOS RK Qual W-L   BPI\n",
       "0    2008    Air Force     162     155              307      1-4  -1.1\n",
       "1    2008        Akron      77     138              133      0-1   6.6\n",
       "2    2008      Alabama      97      63              135     4-10   6.0\n",
       "3    2008  Alabama A&M     312     336              205      0-1 -10.1\n",
       "4    2008   Alabama St     205     334              210      0-1  -4.3"
      ]
     },
     "execution_count": 28,
     "metadata": {},
     "output_type": "execute_result"
    }
   ],
   "source": [
    "cols = [\"Season\",\"Teamname\", \"SOR RK\", \"SOS RK\", \"Non-Conf SOS RK\", \"Qual W-L\", \"BPI\"]\n",
    "espn_df = espn_df[cols]\n",
    "espn_df.head()"
   ]
  },
  {
   "cell_type": "code",
   "execution_count": 29,
   "metadata": {
    "collapsed": false
   },
   "outputs": [
    {
     "data": {
      "text/html": [
       "<div>\n",
       "<table border=\"1\" class=\"dataframe\">\n",
       "  <thead>\n",
       "    <tr style=\"text-align: right;\">\n",
       "      <th></th>\n",
       "      <th>Q_wins</th>\n",
       "      <th>Q_losses</th>\n",
       "    </tr>\n",
       "  </thead>\n",
       "  <tbody>\n",
       "    <tr>\n",
       "      <th>0</th>\n",
       "      <td>1</td>\n",
       "      <td>4</td>\n",
       "    </tr>\n",
       "    <tr>\n",
       "      <th>1</th>\n",
       "      <td>0</td>\n",
       "      <td>1</td>\n",
       "    </tr>\n",
       "    <tr>\n",
       "      <th>2</th>\n",
       "      <td>4</td>\n",
       "      <td>10</td>\n",
       "    </tr>\n",
       "    <tr>\n",
       "      <th>3</th>\n",
       "      <td>0</td>\n",
       "      <td>1</td>\n",
       "    </tr>\n",
       "    <tr>\n",
       "      <th>4</th>\n",
       "      <td>0</td>\n",
       "      <td>1</td>\n",
       "    </tr>\n",
       "  </tbody>\n",
       "</table>\n",
       "</div>"
      ],
      "text/plain": [
       "  Q_wins Q_losses\n",
       "0      1        4\n",
       "1      0        1\n",
       "2      4       10\n",
       "3      0        1\n",
       "4      0        1"
      ]
     },
     "execution_count": 29,
     "metadata": {},
     "output_type": "execute_result"
    }
   ],
   "source": [
    "Q_cols = pd.DataFrame(espn_df[\"Qual W-L\"].str.split('-',1).tolist(),\n",
    "                                   columns = ['Q_wins','Q_losses'])\n",
    "Q_cols.head()"
   ]
  },
  {
   "cell_type": "code",
   "execution_count": 32,
   "metadata": {
    "collapsed": false
   },
   "outputs": [
    {
     "data": {
      "text/html": [
       "<div>\n",
       "<table border=\"1\" class=\"dataframe\">\n",
       "  <thead>\n",
       "    <tr style=\"text-align: right;\">\n",
       "      <th></th>\n",
       "      <th>Season</th>\n",
       "      <th>Teamname</th>\n",
       "      <th>SOR RK</th>\n",
       "      <th>SOS RK</th>\n",
       "      <th>Non-Conf SOS RK</th>\n",
       "      <th>BPI</th>\n",
       "      <th>Q_wins</th>\n",
       "      <th>Q_losses</th>\n",
       "    </tr>\n",
       "  </thead>\n",
       "  <tbody>\n",
       "    <tr>\n",
       "      <th>0</th>\n",
       "      <td>2008</td>\n",
       "      <td>Air Force</td>\n",
       "      <td>162</td>\n",
       "      <td>155</td>\n",
       "      <td>307</td>\n",
       "      <td>-1.1</td>\n",
       "      <td>1</td>\n",
       "      <td>4</td>\n",
       "    </tr>\n",
       "    <tr>\n",
       "      <th>1</th>\n",
       "      <td>2008</td>\n",
       "      <td>Akron</td>\n",
       "      <td>77</td>\n",
       "      <td>138</td>\n",
       "      <td>133</td>\n",
       "      <td>6.6</td>\n",
       "      <td>0</td>\n",
       "      <td>1</td>\n",
       "    </tr>\n",
       "    <tr>\n",
       "      <th>2</th>\n",
       "      <td>2008</td>\n",
       "      <td>Alabama</td>\n",
       "      <td>97</td>\n",
       "      <td>63</td>\n",
       "      <td>135</td>\n",
       "      <td>6.0</td>\n",
       "      <td>4</td>\n",
       "      <td>10</td>\n",
       "    </tr>\n",
       "    <tr>\n",
       "      <th>3</th>\n",
       "      <td>2008</td>\n",
       "      <td>Alabama A&amp;M</td>\n",
       "      <td>312</td>\n",
       "      <td>336</td>\n",
       "      <td>205</td>\n",
       "      <td>-10.1</td>\n",
       "      <td>0</td>\n",
       "      <td>1</td>\n",
       "    </tr>\n",
       "    <tr>\n",
       "      <th>4</th>\n",
       "      <td>2008</td>\n",
       "      <td>Alabama St</td>\n",
       "      <td>205</td>\n",
       "      <td>334</td>\n",
       "      <td>210</td>\n",
       "      <td>-4.3</td>\n",
       "      <td>0</td>\n",
       "      <td>1</td>\n",
       "    </tr>\n",
       "  </tbody>\n",
       "</table>\n",
       "</div>"
      ],
      "text/plain": [
       "   Season     Teamname  SOR RK  SOS RK  Non-Conf SOS RK   BPI Q_wins Q_losses\n",
       "0    2008    Air Force     162     155              307  -1.1      1        4\n",
       "1    2008        Akron      77     138              133   6.6      0        1\n",
       "2    2008      Alabama      97      63              135   6.0      4       10\n",
       "3    2008  Alabama A&M     312     336              205 -10.1      0        1\n",
       "4    2008   Alabama St     205     334              210  -4.3      0        1"
      ]
     },
     "execution_count": 32,
     "metadata": {},
     "output_type": "execute_result"
    }
   ],
   "source": [
    "ESPN_df = espn_df.join(Q_cols)\n",
    "ESPN_df.drop(\"Qual W-L\", axis=1, inplace=True)\n",
    "ESPN_df.head()"
   ]
  },
  {
   "cell_type": "code",
   "execution_count": 33,
   "metadata": {
    "collapsed": true
   },
   "outputs": [],
   "source": [
    "with open(\"../pickled_data/espn_df.pickle\", \"wb\") as e_df:\n",
    "    pickle.dump(ESPN_df, e_df)\n",
    "e_df.close()"
   ]
  },
  {
   "cell_type": "code",
   "execution_count": null,
   "metadata": {
    "collapsed": true
   },
   "outputs": [],
   "source": []
  }
 ],
 "metadata": {
  "kernelspec": {
   "display_name": "Python 2",
   "language": "python",
   "name": "python2"
  },
  "language_info": {
   "codemirror_mode": {
    "name": "ipython",
    "version": 2
   },
   "file_extension": ".py",
   "mimetype": "text/x-python",
   "name": "python",
   "nbconvert_exporter": "python",
   "pygments_lexer": "ipython2",
   "version": "2.7.13"
  }
 },
 "nbformat": 4,
 "nbformat_minor": 0
}
