{
 "cells": [
  {
   "cell_type": "code",
   "execution_count": 67,
   "metadata": {
    "collapsed": true
   },
   "outputs": [],
   "source": [
    "import numpy as np\n",
    "import plotly.tools as tls\n",
    "import plotly.plotly as py\n",
    "import pandas as pd\n",
    "from auth import plotkey\n",
    "import plotly.graph_objs as go\n",
    "py.sign_in('kaushik.316', plotkey)"
   ]
  },
  {
   "cell_type": "code",
   "execution_count": 50,
   "metadata": {
    "collapsed": true
   },
   "outputs": [],
   "source": [
    "df = pd.read_csv('../proc_data/FinalStats.csv')"
   ]
  },
  {
   "cell_type": "code",
   "execution_count": 51,
   "metadata": {
    "collapsed": true
   },
   "outputs": [],
   "source": [
    "W_cols = [\"Wfgm%\", \"Wfgm3%\", \"Wftm%\"]\n",
    "L_cols = [\"Lfgm%\",\"Lfgm3%\",\"Lftm%\"]\n",
    "\n",
    "W_df = df[W_cols]\n",
    "L_df = df[L_cols]"
   ]
  },
  {
   "cell_type": "code",
   "execution_count": 52,
   "metadata": {
    "collapsed": false
   },
   "outputs": [],
   "source": [
    "def get_mean(df, *cols):\n",
    "    means = []\n",
    "    for col in cols:\n",
    "        means.append(df[col].mean())\n",
    "        print df[col].mean()\n",
    "    return means"
   ]
  },
  {
   "cell_type": "code",
   "execution_count": 53,
   "metadata": {
    "collapsed": false
   },
   "outputs": [
    {
     "name": "stdout",
     "output_type": "stream",
     "text": [
      "Wfgm%     47.321506\n",
      "Wfgm3%    38.040271\n",
      "Wftm%     71.021316\n",
      "dtype: float64\n",
      "Lfgm%     39.996178\n",
      "Lfgm3%    30.695883\n",
      "Lftm%     67.368431\n",
      "dtype: float64\n"
     ]
    }
   ],
   "source": [
    "W_averages = get_mean(W_df, W_cols)\n",
    "L_averages = get_mean(L_df, L_cols)"
   ]
  },
  {
   "cell_type": "code",
   "execution_count": 87,
   "metadata": {
    "collapsed": false
   },
   "outputs": [
    {
     "data": {
      "text/html": [
       "<iframe id=\"igraph\" scrolling=\"no\" style=\"border:none;\" seamless=\"seamless\" src=\"https://plot.ly/~kaushik.316/23.embed\" height=\"525px\" width=\"100%\"></iframe>"
      ],
      "text/plain": [
       "<plotly.tools.PlotlyDisplay object>"
      ]
     },
     "execution_count": 87,
     "metadata": {},
     "output_type": "execute_result"
    }
   ],
   "source": [
    "trace1 = go.Bar(\n",
    "    x=[\"field goal%\", \"field goal 3%\", \"free throw%\"],\n",
    "    y=[47.32, 38.04, 71.02],\n",
    "    name='Winning teams',\n",
    "    marker=dict(\n",
    "    color='rgba(32,178,150,0.9)'\n",
    "    )\n",
    ")\n",
    "trace2 = go.Bar(\n",
    "    x=[\"field goal%\", \"field goal 3%\", \"free throw%\"],\n",
    "    y=[39.9, 30.69, 67.36],\n",
    "    name='Losing teams',\n",
    "    marker=dict(\n",
    "    color='rgba(85,0,130,0.8)',\n",
    "    )\n",
    ")\n",
    "\n",
    "data = [trace1, trace2]\n",
    "layout = go.Layout(\n",
    "    barmode='group',\n",
    "    title='Avg Shooting %'\n",
    ")\n",
    "\n",
    "fig = go.Figure(data=data, layout=layout)\n",
    "py.iplot(fig, filename='shot%')"
   ]
  },
  {
   "cell_type": "code",
   "execution_count": 55,
   "metadata": {
    "collapsed": false
   },
   "outputs": [],
   "source": [
    "W_cols = [\"W_SOR_RK\", \"W_non_conf_sos\", \"W_SOS_RK\"]\n",
    "L_cols = [\"L_SOR_RK\", \"L_non_conf_sos\", \"L_SOS_RK\"]\n",
    "\n",
    "W_df = df[W_cols]\n",
    "L_df = df[L_cols]"
   ]
  },
  {
   "cell_type": "code",
   "execution_count": 56,
   "metadata": {
    "collapsed": false
   },
   "outputs": [
    {
     "name": "stdout",
     "output_type": "stream",
     "text": [
      "W_SOR_RK          129.814279\n",
      "W_non_conf_sos    153.404837\n",
      "W_SOS_RK          146.463189\n",
      "dtype: float64\n",
      "L_SOR_RK          188.162874\n",
      "L_non_conf_sos    179.925218\n",
      "L_SOS_RK          168.684236\n",
      "dtype: float64\n"
     ]
    }
   ],
   "source": [
    "W_averages = get_mean(W_df, W_cols)\n",
    "L_averages = get_mean(L_df, L_cols)"
   ]
  },
  {
   "cell_type": "code",
   "execution_count": 86,
   "metadata": {
    "collapsed": false
   },
   "outputs": [
    {
     "data": {
      "text/html": [
       "<iframe id=\"igraph\" scrolling=\"no\" style=\"border:none;\" seamless=\"seamless\" src=\"https://plot.ly/~kaushik.316/25.embed\" height=\"525px\" width=\"100%\"></iframe>"
      ],
      "text/plain": [
       "<plotly.tools.PlotlyDisplay object>"
      ]
     },
     "execution_count": 86,
     "metadata": {},
     "output_type": "execute_result"
    }
   ],
   "source": [
    "trace1 = go.Bar(\n",
    "    x=[\"Strength of Record\", \"Non conf SOR\", \"Strength of Schedule\"],\n",
    "    y=[129.81, 153.40, 146.46],\n",
    "    name='Winning teams',\n",
    "    marker=dict(\n",
    "    color='rgba(32,178,150,0.9)'\n",
    "    )\n",
    ")\n",
    "trace2 = go.Bar(\n",
    "    x=[\"Strength of Record\", \"Non conf SOR\", \"Strength of Schedule\"],\n",
    "    y=[188.16, 179.92, 168.68],\n",
    "    name='Losing teams',\n",
    "    marker=dict(\n",
    "    color='rgba(85,0,130,0.8)',\n",
    "    )\n",
    ")\n",
    "\n",
    "data = [trace1, trace2]\n",
    "layout = go.Layout(\n",
    "    barmode='group',\n",
    "    title='Avg Rankings'\n",
    ")\n",
    "\n",
    "fig = go.Figure(data=data, layout=layout)\n",
    "py.iplot(fig, filename='espn stats')"
   ]
  },
  {
   "cell_type": "code",
   "execution_count": 62,
   "metadata": {
    "collapsed": false
   },
   "outputs": [],
   "source": [
    "wins_df = pd.read_csv('../team_wins.csv')\n",
    "wins_df.columns = [\"Team\", \"Wins\"]"
   ]
  },
  {
   "cell_type": "code",
   "execution_count": 65,
   "metadata": {
    "collapsed": false
   },
   "outputs": [
    {
     "data": {
      "text/html": [
       "<div>\n",
       "<table border=\"1\" class=\"dataframe\">\n",
       "  <thead>\n",
       "    <tr style=\"text-align: right;\">\n",
       "      <th></th>\n",
       "      <th>Team</th>\n",
       "      <th>Wins</th>\n",
       "    </tr>\n",
       "  </thead>\n",
       "  <tbody>\n",
       "    <tr>\n",
       "      <th>10</th>\n",
       "      <td>Arizona</td>\n",
       "      <td>26087</td>\n",
       "    </tr>\n",
       "    <tr>\n",
       "      <th>14</th>\n",
       "      <td>Arkansas</td>\n",
       "      <td>2331</td>\n",
       "    </tr>\n",
       "    <tr>\n",
       "      <th>22</th>\n",
       "      <td>Baylor</td>\n",
       "      <td>15856</td>\n",
       "    </tr>\n",
       "    <tr>\n",
       "      <th>35</th>\n",
       "      <td>Bucknell</td>\n",
       "      <td>2578</td>\n",
       "    </tr>\n",
       "    <tr>\n",
       "      <th>37</th>\n",
       "      <td>Butler</td>\n",
       "      <td>17123</td>\n",
       "    </tr>\n",
       "  </tbody>\n",
       "</table>\n",
       "</div>"
      ],
      "text/plain": [
       "        Team   Wins\n",
       "10   Arizona  26087\n",
       "14  Arkansas   2331\n",
       "22    Baylor  15856\n",
       "35  Bucknell   2578\n",
       "37    Butler  17123"
      ]
     },
     "execution_count": 65,
     "metadata": {},
     "output_type": "execute_result"
    }
   ],
   "source": [
    "wins_df = wins_df[wins_df[\"Wins\"] > 0]\n",
    "wins_df.head()"
   ]
  },
  {
   "cell_type": "code",
   "execution_count": 73,
   "metadata": {
    "collapsed": false
   },
   "outputs": [
    {
     "data": {
      "text/html": [
       "<iframe id=\"igraph\" scrolling=\"no\" style=\"border:none;\" seamless=\"seamless\" src=\"https://plot.ly/~kaushik.316/27.embed\" height=\"525px\" width=\"100%\"></iframe>"
      ],
      "text/plain": [
       "<plotly.tools.PlotlyDisplay object>"
      ]
     },
     "execution_count": 73,
     "metadata": {},
     "output_type": "execute_result"
    }
   ],
   "source": [
    "trace1 = go.Scatter(\n",
    "    y = wins_df.Wins,\n",
    "    mode='markers',\n",
    "    marker=dict(\n",
    "        size='16',\n",
    "        color = np.random.randn(64), #set color equal to a variable\n",
    "        colorscale='Viridis',\n",
    "        showscale=True\n",
    "    )\n",
    ")\n",
    "data = [trace1]\n",
    "layout = go.Layout(\n",
    "    title='Number of Wins',\n",
    "    showlegend = False\n",
    ")\n",
    "fig = go.Figure(data=data, layout=layout)\n",
    "py.iplot(fig, filename='scatter-plot-with-colorscale')"
   ]
  },
  {
   "cell_type": "code",
   "execution_count": null,
   "metadata": {
    "collapsed": true
   },
   "outputs": [],
   "source": []
  }
 ],
 "metadata": {
  "kernelspec": {
   "display_name": "Python 2",
   "language": "python",
   "name": "python2"
  },
  "language_info": {
   "codemirror_mode": {
    "name": "ipython",
    "version": 2
   },
   "file_extension": ".py",
   "mimetype": "text/x-python",
   "name": "python",
   "nbconvert_exporter": "python",
   "pygments_lexer": "ipython2",
   "version": "2.7.9"
  }
 },
 "nbformat": 4,
 "nbformat_minor": 0
}
